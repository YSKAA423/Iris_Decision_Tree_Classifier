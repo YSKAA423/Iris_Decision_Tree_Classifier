{
 "cells": [
  {
   "cell_type": "markdown",
   "id": "5f319551-b6af-4399-9b2f-1a26c7b46d91",
   "metadata": {},
   "source": [
    "## As part of the [Spark Foundation internship](https://www.linkedin.com/company/the-sparks-foundation/), this project involves creating a Decision Tree classifier and visualizing it graphically. The classifier should be able to predict the right class of iris flowers when fed new data, showcasing the ability to handle intermediate-level machine learning tasks.\n",
    "\n",
    "This project has been implemented by [Yaser Alshuaybat](https://www.linkedin.com/in/yaser-alshuaybat-611069268/)\n",
    "\n",
    "<div style=\"border: 1px solid blue; padding: 10px; background-color: #e6f7ff;\">\n",
    "    <strong>Description:</strong> \n",
    "    <p>The goal of this project is to create a Decision Tree classifier and visualize it graphically. The purpose is to enable the classifier to predict the correct class when provided with new data, enhancing understanding and application of Decision Tree algorithms in machine learning.</p>\n",
    "\n",
    "<strong>Task Submission:</strong>\n",
    "<ol>\n",
    "    <li>Host the code on a public GitHub repository. Record the code and output in a video and post it on YouTube.</li>\n",
    "    <li>Share links to the code (GitHub) and the video (YouTube) as a post on your LinkedIn profile.</li>\n",
    "    <li>Submit the LinkedIn link in the Task Submission Form when shared.</li>\n",
    "    <li>Read the FAQs on how to submit the tasks.</li>\n",
    "</ol>"
   ]
  }
 ],
 "metadata": {
  "kernelspec": {
   "display_name": "Python 3 (ipykernel)",
   "language": "python",
   "name": "python3"
  },
  "language_info": {
   "codemirror_mode": {
    "name": "ipython",
    "version": 3
   },
   "file_extension": ".py",
   "mimetype": "text/x-python",
   "name": "python",
   "nbconvert_exporter": "python",
   "pygments_lexer": "ipython3",
   "version": "3.12.1"
  }
 },
 "nbformat": 4,
 "nbformat_minor": 5
}
